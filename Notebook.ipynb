{
 "cells": [
  {
   "cell_type": "code",
   "execution_count": 1,
   "id": "looking-navigation",
   "metadata": {
    "_cell_guid": "b1076dfc-b9ad-4769-8c92-a6c4dae69d19",
    "_uuid": "8f2839f25d086af736a60e9eeb907d3b93b6e0e5",
    "execution": {
     "iopub.execute_input": "2021-06-14T19:41:11.776469Z",
     "iopub.status.busy": "2021-06-14T19:41:11.775247Z",
     "iopub.status.idle": "2021-06-14T19:41:13.159801Z",
     "shell.execute_reply": "2021-06-14T19:41:13.159083Z",
     "shell.execute_reply.started": "2021-06-14T19:35:17.394185Z"
    },
    "papermill": {
     "duration": 1.419838,
     "end_time": "2021-06-14T19:41:13.160018",
     "exception": false,
     "start_time": "2021-06-14T19:41:11.740180",
     "status": "completed"
    },
    "tags": []
   },
   "outputs": [],
   "source": [
    "import numpy as np\n",
    "import pandas as pd\n",
    "import seaborn as sns\n",
    "import re\n",
    "from sklearn.compose import ColumnTransformer\n",
    "from sklearn.pipeline import Pipeline\n",
    "from sklearn.impute import SimpleImputer\n",
    "from sklearn.preprocessing import OneHotEncoder\n",
    "from sklearn.ensemble import RandomForestClassifier\n",
    "from sklearn.model_selection import cross_val_score\n",
    "import matplotlib.pyplot as plt\n",
    "%matplotlib inline"
   ]
  },
  {
   "cell_type": "code",
   "execution_count": 2,
   "id": "novel-consumer",
   "metadata": {
    "execution": {
     "iopub.execute_input": "2021-06-14T19:41:13.228370Z",
     "iopub.status.busy": "2021-06-14T19:41:13.227662Z",
     "iopub.status.idle": "2021-06-14T19:41:13.255360Z",
     "shell.execute_reply": "2021-06-14T19:41:13.254815Z",
     "shell.execute_reply.started": "2021-06-14T19:35:18.766021Z"
    },
    "papermill": {
     "duration": 0.063337,
     "end_time": "2021-06-14T19:41:13.255511",
     "exception": false,
     "start_time": "2021-06-14T19:41:13.192174",
     "status": "completed"
    },
    "tags": []
   },
   "outputs": [],
   "source": [
    "test_data = pd.read_csv(\"../input/titanic/test.csv\")\n",
    "train_data = pd.read_csv(\"../input/titanic/train.csv\")"
   ]
  },
  {
   "cell_type": "code",
   "execution_count": 3,
   "id": "divine-moderator",
   "metadata": {
    "execution": {
     "iopub.execute_input": "2021-06-14T19:41:13.331303Z",
     "iopub.status.busy": "2021-06-14T19:41:13.330483Z",
     "iopub.status.idle": "2021-06-14T19:41:13.333754Z",
     "shell.execute_reply": "2021-06-14T19:41:13.334234Z",
     "shell.execute_reply.started": "2021-06-14T19:35:18.797065Z"
    },
    "papermill": {
     "duration": 0.048144,
     "end_time": "2021-06-14T19:41:13.334403",
     "exception": false,
     "start_time": "2021-06-14T19:41:13.286259",
     "status": "completed"
    },
    "tags": []
   },
   "outputs": [
    {
     "data": {
      "text/plain": [
       "342"
      ]
     },
     "execution_count": 3,
     "metadata": {},
     "output_type": "execute_result"
    }
   ],
   "source": [
    "train_data[\"Survived\"].sum()"
   ]
  },
  {
   "cell_type": "code",
   "execution_count": 4,
   "id": "individual-scoop",
   "metadata": {
    "execution": {
     "iopub.execute_input": "2021-06-14T19:41:13.400264Z",
     "iopub.status.busy": "2021-06-14T19:41:13.399657Z",
     "iopub.status.idle": "2021-06-14T19:41:13.422438Z",
     "shell.execute_reply": "2021-06-14T19:41:13.423201Z",
     "shell.execute_reply.started": "2021-06-14T19:35:18.815284Z"
    },
    "papermill": {
     "duration": 0.056985,
     "end_time": "2021-06-14T19:41:13.423395",
     "exception": false,
     "start_time": "2021-06-14T19:41:13.366410",
     "status": "completed"
    },
    "tags": []
   },
   "outputs": [
    {
     "name": "stdout",
     "output_type": "stream",
     "text": [
      "<class 'pandas.core.frame.DataFrame'>\n",
      "RangeIndex: 891 entries, 0 to 890\n",
      "Data columns (total 12 columns):\n",
      " #   Column       Non-Null Count  Dtype  \n",
      "---  ------       --------------  -----  \n",
      " 0   PassengerId  891 non-null    int64  \n",
      " 1   Survived     891 non-null    int64  \n",
      " 2   Pclass       891 non-null    int64  \n",
      " 3   Name         891 non-null    object \n",
      " 4   Sex          891 non-null    object \n",
      " 5   Age          714 non-null    float64\n",
      " 6   SibSp        891 non-null    int64  \n",
      " 7   Parch        891 non-null    int64  \n",
      " 8   Ticket       891 non-null    object \n",
      " 9   Fare         891 non-null    float64\n",
      " 10  Cabin        204 non-null    object \n",
      " 11  Embarked     889 non-null    object \n",
      "dtypes: float64(2), int64(5), object(5)\n",
      "memory usage: 83.7+ KB\n"
     ]
    }
   ],
   "source": [
    "train_data.info()"
   ]
  },
  {
   "cell_type": "code",
   "execution_count": 5,
   "id": "featured-photographer",
   "metadata": {
    "execution": {
     "iopub.execute_input": "2021-06-14T19:41:13.498969Z",
     "iopub.status.busy": "2021-06-14T19:41:13.498067Z",
     "iopub.status.idle": "2021-06-14T19:41:13.538287Z",
     "shell.execute_reply": "2021-06-14T19:41:13.537645Z",
     "shell.execute_reply.started": "2021-06-14T19:35:18.842584Z"
    },
    "papermill": {
     "duration": 0.081028,
     "end_time": "2021-06-14T19:41:13.538424",
     "exception": false,
     "start_time": "2021-06-14T19:41:13.457396",
     "status": "completed"
    },
    "tags": []
   },
   "outputs": [
    {
     "data": {
      "text/html": [
       "<div>\n",
       "<style scoped>\n",
       "    .dataframe tbody tr th:only-of-type {\n",
       "        vertical-align: middle;\n",
       "    }\n",
       "\n",
       "    .dataframe tbody tr th {\n",
       "        vertical-align: top;\n",
       "    }\n",
       "\n",
       "    .dataframe thead th {\n",
       "        text-align: right;\n",
       "    }\n",
       "</style>\n",
       "<table border=\"1\" class=\"dataframe\">\n",
       "  <thead>\n",
       "    <tr style=\"text-align: right;\">\n",
       "      <th></th>\n",
       "      <th>PassengerId</th>\n",
       "      <th>Survived</th>\n",
       "      <th>Pclass</th>\n",
       "      <th>Age</th>\n",
       "      <th>SibSp</th>\n",
       "      <th>Parch</th>\n",
       "      <th>Fare</th>\n",
       "    </tr>\n",
       "  </thead>\n",
       "  <tbody>\n",
       "    <tr>\n",
       "      <th>count</th>\n",
       "      <td>891.000000</td>\n",
       "      <td>891.000000</td>\n",
       "      <td>891.000000</td>\n",
       "      <td>714.000000</td>\n",
       "      <td>891.000000</td>\n",
       "      <td>891.000000</td>\n",
       "      <td>891.000000</td>\n",
       "    </tr>\n",
       "    <tr>\n",
       "      <th>mean</th>\n",
       "      <td>446.000000</td>\n",
       "      <td>0.383838</td>\n",
       "      <td>2.308642</td>\n",
       "      <td>29.699118</td>\n",
       "      <td>0.523008</td>\n",
       "      <td>0.381594</td>\n",
       "      <td>32.204208</td>\n",
       "    </tr>\n",
       "    <tr>\n",
       "      <th>std</th>\n",
       "      <td>257.353842</td>\n",
       "      <td>0.486592</td>\n",
       "      <td>0.836071</td>\n",
       "      <td>14.526497</td>\n",
       "      <td>1.102743</td>\n",
       "      <td>0.806057</td>\n",
       "      <td>49.693429</td>\n",
       "    </tr>\n",
       "    <tr>\n",
       "      <th>min</th>\n",
       "      <td>1.000000</td>\n",
       "      <td>0.000000</td>\n",
       "      <td>1.000000</td>\n",
       "      <td>0.420000</td>\n",
       "      <td>0.000000</td>\n",
       "      <td>0.000000</td>\n",
       "      <td>0.000000</td>\n",
       "    </tr>\n",
       "    <tr>\n",
       "      <th>25%</th>\n",
       "      <td>223.500000</td>\n",
       "      <td>0.000000</td>\n",
       "      <td>2.000000</td>\n",
       "      <td>20.125000</td>\n",
       "      <td>0.000000</td>\n",
       "      <td>0.000000</td>\n",
       "      <td>7.910400</td>\n",
       "    </tr>\n",
       "    <tr>\n",
       "      <th>50%</th>\n",
       "      <td>446.000000</td>\n",
       "      <td>0.000000</td>\n",
       "      <td>3.000000</td>\n",
       "      <td>28.000000</td>\n",
       "      <td>0.000000</td>\n",
       "      <td>0.000000</td>\n",
       "      <td>14.454200</td>\n",
       "    </tr>\n",
       "    <tr>\n",
       "      <th>75%</th>\n",
       "      <td>668.500000</td>\n",
       "      <td>1.000000</td>\n",
       "      <td>3.000000</td>\n",
       "      <td>38.000000</td>\n",
       "      <td>1.000000</td>\n",
       "      <td>0.000000</td>\n",
       "      <td>31.000000</td>\n",
       "    </tr>\n",
       "    <tr>\n",
       "      <th>max</th>\n",
       "      <td>891.000000</td>\n",
       "      <td>1.000000</td>\n",
       "      <td>3.000000</td>\n",
       "      <td>80.000000</td>\n",
       "      <td>8.000000</td>\n",
       "      <td>6.000000</td>\n",
       "      <td>512.329200</td>\n",
       "    </tr>\n",
       "  </tbody>\n",
       "</table>\n",
       "</div>"
      ],
      "text/plain": [
       "       PassengerId    Survived      Pclass         Age       SibSp  \\\n",
       "count   891.000000  891.000000  891.000000  714.000000  891.000000   \n",
       "mean    446.000000    0.383838    2.308642   29.699118    0.523008   \n",
       "std     257.353842    0.486592    0.836071   14.526497    1.102743   \n",
       "min       1.000000    0.000000    1.000000    0.420000    0.000000   \n",
       "25%     223.500000    0.000000    2.000000   20.125000    0.000000   \n",
       "50%     446.000000    0.000000    3.000000   28.000000    0.000000   \n",
       "75%     668.500000    1.000000    3.000000   38.000000    1.000000   \n",
       "max     891.000000    1.000000    3.000000   80.000000    8.000000   \n",
       "\n",
       "            Parch        Fare  \n",
       "count  891.000000  891.000000  \n",
       "mean     0.381594   32.204208  \n",
       "std      0.806057   49.693429  \n",
       "min      0.000000    0.000000  \n",
       "25%      0.000000    7.910400  \n",
       "50%      0.000000   14.454200  \n",
       "75%      0.000000   31.000000  \n",
       "max      6.000000  512.329200  "
      ]
     },
     "execution_count": 5,
     "metadata": {},
     "output_type": "execute_result"
    }
   ],
   "source": [
    "train_data.describe()"
   ]
  },
  {
   "cell_type": "code",
   "execution_count": 6,
   "id": "formed-craft",
   "metadata": {
    "execution": {
     "iopub.execute_input": "2021-06-14T19:41:13.618283Z",
     "iopub.status.busy": "2021-06-14T19:41:13.617452Z",
     "iopub.status.idle": "2021-06-14T19:41:13.621367Z",
     "shell.execute_reply": "2021-06-14T19:41:13.621812Z",
     "shell.execute_reply.started": "2021-06-14T19:35:18.895446Z"
    },
    "papermill": {
     "duration": 0.051049,
     "end_time": "2021-06-14T19:41:13.622021",
     "exception": false,
     "start_time": "2021-06-14T19:41:13.570972",
     "status": "completed"
    },
    "tags": []
   },
   "outputs": [
    {
     "name": "stdout",
     "output_type": "stream",
     "text": [
      "<class 'pandas.core.frame.DataFrame'>\n",
      "RangeIndex: 418 entries, 0 to 417\n",
      "Data columns (total 11 columns):\n",
      " #   Column       Non-Null Count  Dtype  \n",
      "---  ------       --------------  -----  \n",
      " 0   PassengerId  418 non-null    int64  \n",
      " 1   Pclass       418 non-null    int64  \n",
      " 2   Name         418 non-null    object \n",
      " 3   Sex          418 non-null    object \n",
      " 4   Age          332 non-null    float64\n",
      " 5   SibSp        418 non-null    int64  \n",
      " 6   Parch        418 non-null    int64  \n",
      " 7   Ticket       418 non-null    object \n",
      " 8   Fare         417 non-null    float64\n",
      " 9   Cabin        91 non-null     object \n",
      " 10  Embarked     418 non-null    object \n",
      "dtypes: float64(2), int64(4), object(5)\n",
      "memory usage: 36.0+ KB\n"
     ]
    }
   ],
   "source": [
    "test_data.info()"
   ]
  },
  {
   "cell_type": "code",
   "execution_count": 7,
   "id": "foster-cocktail",
   "metadata": {
    "execution": {
     "iopub.execute_input": "2021-06-14T19:41:13.702084Z",
     "iopub.status.busy": "2021-06-14T19:41:13.700926Z",
     "iopub.status.idle": "2021-06-14T19:41:13.726548Z",
     "shell.execute_reply": "2021-06-14T19:41:13.725924Z",
     "shell.execute_reply.started": "2021-06-14T19:35:18.912173Z"
    },
    "papermill": {
     "duration": 0.071202,
     "end_time": "2021-06-14T19:41:13.726719",
     "exception": false,
     "start_time": "2021-06-14T19:41:13.655517",
     "status": "completed"
    },
    "tags": []
   },
   "outputs": [
    {
     "data": {
      "text/html": [
       "<div>\n",
       "<style scoped>\n",
       "    .dataframe tbody tr th:only-of-type {\n",
       "        vertical-align: middle;\n",
       "    }\n",
       "\n",
       "    .dataframe tbody tr th {\n",
       "        vertical-align: top;\n",
       "    }\n",
       "\n",
       "    .dataframe thead th {\n",
       "        text-align: right;\n",
       "    }\n",
       "</style>\n",
       "<table border=\"1\" class=\"dataframe\">\n",
       "  <thead>\n",
       "    <tr style=\"text-align: right;\">\n",
       "      <th></th>\n",
       "      <th>PassengerId</th>\n",
       "      <th>Pclass</th>\n",
       "      <th>Age</th>\n",
       "      <th>SibSp</th>\n",
       "      <th>Parch</th>\n",
       "      <th>Fare</th>\n",
       "    </tr>\n",
       "  </thead>\n",
       "  <tbody>\n",
       "    <tr>\n",
       "      <th>count</th>\n",
       "      <td>418.000000</td>\n",
       "      <td>418.000000</td>\n",
       "      <td>332.000000</td>\n",
       "      <td>418.000000</td>\n",
       "      <td>418.000000</td>\n",
       "      <td>417.000000</td>\n",
       "    </tr>\n",
       "    <tr>\n",
       "      <th>mean</th>\n",
       "      <td>1100.500000</td>\n",
       "      <td>2.265550</td>\n",
       "      <td>30.272590</td>\n",
       "      <td>0.447368</td>\n",
       "      <td>0.392344</td>\n",
       "      <td>35.627188</td>\n",
       "    </tr>\n",
       "    <tr>\n",
       "      <th>std</th>\n",
       "      <td>120.810458</td>\n",
       "      <td>0.841838</td>\n",
       "      <td>14.181209</td>\n",
       "      <td>0.896760</td>\n",
       "      <td>0.981429</td>\n",
       "      <td>55.907576</td>\n",
       "    </tr>\n",
       "    <tr>\n",
       "      <th>min</th>\n",
       "      <td>892.000000</td>\n",
       "      <td>1.000000</td>\n",
       "      <td>0.170000</td>\n",
       "      <td>0.000000</td>\n",
       "      <td>0.000000</td>\n",
       "      <td>0.000000</td>\n",
       "    </tr>\n",
       "    <tr>\n",
       "      <th>25%</th>\n",
       "      <td>996.250000</td>\n",
       "      <td>1.000000</td>\n",
       "      <td>21.000000</td>\n",
       "      <td>0.000000</td>\n",
       "      <td>0.000000</td>\n",
       "      <td>7.895800</td>\n",
       "    </tr>\n",
       "    <tr>\n",
       "      <th>50%</th>\n",
       "      <td>1100.500000</td>\n",
       "      <td>3.000000</td>\n",
       "      <td>27.000000</td>\n",
       "      <td>0.000000</td>\n",
       "      <td>0.000000</td>\n",
       "      <td>14.454200</td>\n",
       "    </tr>\n",
       "    <tr>\n",
       "      <th>75%</th>\n",
       "      <td>1204.750000</td>\n",
       "      <td>3.000000</td>\n",
       "      <td>39.000000</td>\n",
       "      <td>1.000000</td>\n",
       "      <td>0.000000</td>\n",
       "      <td>31.500000</td>\n",
       "    </tr>\n",
       "    <tr>\n",
       "      <th>max</th>\n",
       "      <td>1309.000000</td>\n",
       "      <td>3.000000</td>\n",
       "      <td>76.000000</td>\n",
       "      <td>8.000000</td>\n",
       "      <td>9.000000</td>\n",
       "      <td>512.329200</td>\n",
       "    </tr>\n",
       "  </tbody>\n",
       "</table>\n",
       "</div>"
      ],
      "text/plain": [
       "       PassengerId      Pclass         Age       SibSp       Parch        Fare\n",
       "count   418.000000  418.000000  332.000000  418.000000  418.000000  417.000000\n",
       "mean   1100.500000    2.265550   30.272590    0.447368    0.392344   35.627188\n",
       "std     120.810458    0.841838   14.181209    0.896760    0.981429   55.907576\n",
       "min     892.000000    1.000000    0.170000    0.000000    0.000000    0.000000\n",
       "25%     996.250000    1.000000   21.000000    0.000000    0.000000    7.895800\n",
       "50%    1100.500000    3.000000   27.000000    0.000000    0.000000   14.454200\n",
       "75%    1204.750000    3.000000   39.000000    1.000000    0.000000   31.500000\n",
       "max    1309.000000    3.000000   76.000000    8.000000    9.000000  512.329200"
      ]
     },
     "execution_count": 7,
     "metadata": {},
     "output_type": "execute_result"
    }
   ],
   "source": [
    "test_data.describe()"
   ]
  },
  {
   "cell_type": "markdown",
   "id": "greater-convergence",
   "metadata": {
    "papermill": {
     "duration": 0.032689,
     "end_time": "2021-06-14T19:41:13.796076",
     "exception": false,
     "start_time": "2021-06-14T19:41:13.763387",
     "status": "completed"
    },
    "tags": []
   },
   "source": [
    "Explore missing values - looks like we\"ll have to impute the age. Embarked only has two missing values so we can impute this also."
   ]
  },
  {
   "cell_type": "code",
   "execution_count": 8,
   "id": "upper-shirt",
   "metadata": {
    "execution": {
     "iopub.execute_input": "2021-06-14T19:41:13.870754Z",
     "iopub.status.busy": "2021-06-14T19:41:13.869964Z",
     "iopub.status.idle": "2021-06-14T19:41:13.874353Z",
     "shell.execute_reply": "2021-06-14T19:41:13.873845Z",
     "shell.execute_reply.started": "2021-06-14T19:35:18.948448Z"
    },
    "papermill": {
     "duration": 0.045647,
     "end_time": "2021-06-14T19:41:13.874496",
     "exception": false,
     "start_time": "2021-06-14T19:41:13.828849",
     "status": "completed"
    },
    "tags": []
   },
   "outputs": [
    {
     "data": {
      "text/plain": [
       "PassengerId      0\n",
       "Survived         0\n",
       "Pclass           0\n",
       "Name             0\n",
       "Sex              0\n",
       "Age            177\n",
       "SibSp            0\n",
       "Parch            0\n",
       "Ticket           0\n",
       "Fare             0\n",
       "Cabin          687\n",
       "Embarked         2\n",
       "dtype: int64"
      ]
     },
     "execution_count": 8,
     "metadata": {},
     "output_type": "execute_result"
    }
   ],
   "source": [
    "train_data.isna().sum()"
   ]
  },
  {
   "cell_type": "code",
   "execution_count": 9,
   "id": "elegant-reform",
   "metadata": {
    "execution": {
     "iopub.execute_input": "2021-06-14T19:41:13.950469Z",
     "iopub.status.busy": "2021-06-14T19:41:13.949612Z",
     "iopub.status.idle": "2021-06-14T19:41:13.952979Z",
     "shell.execute_reply": "2021-06-14T19:41:13.953560Z",
     "shell.execute_reply.started": "2021-06-14T19:35:18.963025Z"
    },
    "papermill": {
     "duration": 0.045382,
     "end_time": "2021-06-14T19:41:13.953749",
     "exception": false,
     "start_time": "2021-06-14T19:41:13.908367",
     "status": "completed"
    },
    "tags": []
   },
   "outputs": [
    {
     "data": {
      "text/plain": [
       "PassengerId      0\n",
       "Pclass           0\n",
       "Name             0\n",
       "Sex              0\n",
       "Age             86\n",
       "SibSp            0\n",
       "Parch            0\n",
       "Ticket           0\n",
       "Fare             1\n",
       "Cabin          327\n",
       "Embarked         0\n",
       "dtype: int64"
      ]
     },
     "execution_count": 9,
     "metadata": {},
     "output_type": "execute_result"
    }
   ],
   "source": [
    "test_data.isna().sum()"
   ]
  },
  {
   "cell_type": "markdown",
   "id": "framed-discount",
   "metadata": {
    "papermill": {
     "duration": 0.033818,
     "end_time": "2021-06-14T19:41:14.021145",
     "exception": false,
     "start_time": "2021-06-14T19:41:13.987327",
     "status": "completed"
    },
    "tags": []
   },
   "source": [
    "Explore the features available out of the box and their impact on survival rate"
   ]
  },
  {
   "cell_type": "code",
   "execution_count": 10,
   "id": "illegal-storage",
   "metadata": {
    "execution": {
     "iopub.execute_input": "2021-06-14T19:41:14.093490Z",
     "iopub.status.busy": "2021-06-14T19:41:14.092306Z",
     "iopub.status.idle": "2021-06-14T19:41:14.109751Z",
     "shell.execute_reply": "2021-06-14T19:41:14.110265Z",
     "shell.execute_reply.started": "2021-06-14T19:35:18.976602Z"
    },
    "papermill": {
     "duration": 0.055372,
     "end_time": "2021-06-14T19:41:14.110456",
     "exception": false,
     "start_time": "2021-06-14T19:41:14.055084",
     "status": "completed"
    },
    "tags": []
   },
   "outputs": [
    {
     "data": {
      "text/html": [
       "<div>\n",
       "<style scoped>\n",
       "    .dataframe tbody tr th:only-of-type {\n",
       "        vertical-align: middle;\n",
       "    }\n",
       "\n",
       "    .dataframe tbody tr th {\n",
       "        vertical-align: top;\n",
       "    }\n",
       "\n",
       "    .dataframe thead th {\n",
       "        text-align: right;\n",
       "    }\n",
       "</style>\n",
       "<table border=\"1\" class=\"dataframe\">\n",
       "  <thead>\n",
       "    <tr style=\"text-align: right;\">\n",
       "      <th></th>\n",
       "      <th>PassengerId</th>\n",
       "      <th>Survived</th>\n",
       "      <th>Pclass</th>\n",
       "      <th>Age</th>\n",
       "      <th>SibSp</th>\n",
       "      <th>Parch</th>\n",
       "      <th>Fare</th>\n",
       "    </tr>\n",
       "    <tr>\n",
       "      <th>Embarked</th>\n",
       "      <th></th>\n",
       "      <th></th>\n",
       "      <th></th>\n",
       "      <th></th>\n",
       "      <th></th>\n",
       "      <th></th>\n",
       "      <th></th>\n",
       "    </tr>\n",
       "  </thead>\n",
       "  <tbody>\n",
       "    <tr>\n",
       "      <th>C</th>\n",
       "      <td>445.357143</td>\n",
       "      <td>0.553571</td>\n",
       "      <td>1.886905</td>\n",
       "      <td>30.814769</td>\n",
       "      <td>0.386905</td>\n",
       "      <td>0.363095</td>\n",
       "      <td>59.954144</td>\n",
       "    </tr>\n",
       "    <tr>\n",
       "      <th>Q</th>\n",
       "      <td>417.896104</td>\n",
       "      <td>0.389610</td>\n",
       "      <td>2.909091</td>\n",
       "      <td>28.089286</td>\n",
       "      <td>0.428571</td>\n",
       "      <td>0.168831</td>\n",
       "      <td>13.276030</td>\n",
       "    </tr>\n",
       "    <tr>\n",
       "      <th>S</th>\n",
       "      <td>449.527950</td>\n",
       "      <td>0.336957</td>\n",
       "      <td>2.350932</td>\n",
       "      <td>29.445397</td>\n",
       "      <td>0.571429</td>\n",
       "      <td>0.413043</td>\n",
       "      <td>27.079812</td>\n",
       "    </tr>\n",
       "  </tbody>\n",
       "</table>\n",
       "</div>"
      ],
      "text/plain": [
       "          PassengerId  Survived    Pclass        Age     SibSp     Parch  \\\n",
       "Embarked                                                                   \n",
       "C          445.357143  0.553571  1.886905  30.814769  0.386905  0.363095   \n",
       "Q          417.896104  0.389610  2.909091  28.089286  0.428571  0.168831   \n",
       "S          449.527950  0.336957  2.350932  29.445397  0.571429  0.413043   \n",
       "\n",
       "               Fare  \n",
       "Embarked             \n",
       "C         59.954144  \n",
       "Q         13.276030  \n",
       "S         27.079812  "
      ]
     },
     "execution_count": 10,
     "metadata": {},
     "output_type": "execute_result"
    }
   ],
   "source": [
    "train_data.groupby(\"Embarked\").mean()"
   ]
  },
  {
   "cell_type": "code",
   "execution_count": 11,
   "id": "grand-habitat",
   "metadata": {
    "execution": {
     "iopub.execute_input": "2021-06-14T19:41:14.199218Z",
     "iopub.status.busy": "2021-06-14T19:41:14.188655Z",
     "iopub.status.idle": "2021-06-14T19:41:14.203659Z",
     "shell.execute_reply": "2021-06-14T19:41:14.203110Z",
     "shell.execute_reply.started": "2021-06-14T19:35:18.999986Z"
    },
    "papermill": {
     "duration": 0.056187,
     "end_time": "2021-06-14T19:41:14.203826",
     "exception": false,
     "start_time": "2021-06-14T19:41:14.147639",
     "status": "completed"
    },
    "tags": []
   },
   "outputs": [
    {
     "data": {
      "text/html": [
       "<div>\n",
       "<style scoped>\n",
       "    .dataframe tbody tr th:only-of-type {\n",
       "        vertical-align: middle;\n",
       "    }\n",
       "\n",
       "    .dataframe tbody tr th {\n",
       "        vertical-align: top;\n",
       "    }\n",
       "\n",
       "    .dataframe thead th {\n",
       "        text-align: right;\n",
       "    }\n",
       "</style>\n",
       "<table border=\"1\" class=\"dataframe\">\n",
       "  <thead>\n",
       "    <tr style=\"text-align: right;\">\n",
       "      <th></th>\n",
       "      <th>PassengerId</th>\n",
       "      <th>Survived</th>\n",
       "      <th>Pclass</th>\n",
       "      <th>Age</th>\n",
       "      <th>SibSp</th>\n",
       "      <th>Parch</th>\n",
       "      <th>Fare</th>\n",
       "    </tr>\n",
       "    <tr>\n",
       "      <th>Sex</th>\n",
       "      <th></th>\n",
       "      <th></th>\n",
       "      <th></th>\n",
       "      <th></th>\n",
       "      <th></th>\n",
       "      <th></th>\n",
       "      <th></th>\n",
       "    </tr>\n",
       "  </thead>\n",
       "  <tbody>\n",
       "    <tr>\n",
       "      <th>female</th>\n",
       "      <td>431.028662</td>\n",
       "      <td>0.742038</td>\n",
       "      <td>2.159236</td>\n",
       "      <td>27.915709</td>\n",
       "      <td>0.694268</td>\n",
       "      <td>0.649682</td>\n",
       "      <td>44.479818</td>\n",
       "    </tr>\n",
       "    <tr>\n",
       "      <th>male</th>\n",
       "      <td>454.147314</td>\n",
       "      <td>0.188908</td>\n",
       "      <td>2.389948</td>\n",
       "      <td>30.726645</td>\n",
       "      <td>0.429809</td>\n",
       "      <td>0.235702</td>\n",
       "      <td>25.523893</td>\n",
       "    </tr>\n",
       "  </tbody>\n",
       "</table>\n",
       "</div>"
      ],
      "text/plain": [
       "        PassengerId  Survived    Pclass        Age     SibSp     Parch  \\\n",
       "Sex                                                                      \n",
       "female   431.028662  0.742038  2.159236  27.915709  0.694268  0.649682   \n",
       "male     454.147314  0.188908  2.389948  30.726645  0.429809  0.235702   \n",
       "\n",
       "             Fare  \n",
       "Sex                \n",
       "female  44.479818  \n",
       "male    25.523893  "
      ]
     },
     "execution_count": 11,
     "metadata": {},
     "output_type": "execute_result"
    }
   ],
   "source": [
    "train_data.groupby(\"Sex\").mean()"
   ]
  },
  {
   "cell_type": "code",
   "execution_count": 12,
   "id": "recent-damages",
   "metadata": {
    "execution": {
     "iopub.execute_input": "2021-06-14T19:41:14.281232Z",
     "iopub.status.busy": "2021-06-14T19:41:14.280479Z",
     "iopub.status.idle": "2021-06-14T19:41:14.295373Z",
     "shell.execute_reply": "2021-06-14T19:41:14.294690Z",
     "shell.execute_reply.started": "2021-06-14T19:35:19.018082Z"
    },
    "papermill": {
     "duration": 0.056612,
     "end_time": "2021-06-14T19:41:14.295513",
     "exception": false,
     "start_time": "2021-06-14T19:41:14.238901",
     "status": "completed"
    },
    "tags": []
   },
   "outputs": [
    {
     "data": {
      "text/html": [
       "<div>\n",
       "<style scoped>\n",
       "    .dataframe tbody tr th:only-of-type {\n",
       "        vertical-align: middle;\n",
       "    }\n",
       "\n",
       "    .dataframe tbody tr th {\n",
       "        vertical-align: top;\n",
       "    }\n",
       "\n",
       "    .dataframe thead th {\n",
       "        text-align: right;\n",
       "    }\n",
       "</style>\n",
       "<table border=\"1\" class=\"dataframe\">\n",
       "  <thead>\n",
       "    <tr style=\"text-align: right;\">\n",
       "      <th></th>\n",
       "      <th>PassengerId</th>\n",
       "      <th>Survived</th>\n",
       "      <th>Age</th>\n",
       "      <th>SibSp</th>\n",
       "      <th>Parch</th>\n",
       "      <th>Fare</th>\n",
       "    </tr>\n",
       "    <tr>\n",
       "      <th>Pclass</th>\n",
       "      <th></th>\n",
       "      <th></th>\n",
       "      <th></th>\n",
       "      <th></th>\n",
       "      <th></th>\n",
       "      <th></th>\n",
       "    </tr>\n",
       "  </thead>\n",
       "  <tbody>\n",
       "    <tr>\n",
       "      <th>1</th>\n",
       "      <td>461.597222</td>\n",
       "      <td>0.629630</td>\n",
       "      <td>38.233441</td>\n",
       "      <td>0.416667</td>\n",
       "      <td>0.356481</td>\n",
       "      <td>84.154687</td>\n",
       "    </tr>\n",
       "    <tr>\n",
       "      <th>2</th>\n",
       "      <td>445.956522</td>\n",
       "      <td>0.472826</td>\n",
       "      <td>29.877630</td>\n",
       "      <td>0.402174</td>\n",
       "      <td>0.380435</td>\n",
       "      <td>20.662183</td>\n",
       "    </tr>\n",
       "    <tr>\n",
       "      <th>3</th>\n",
       "      <td>439.154786</td>\n",
       "      <td>0.242363</td>\n",
       "      <td>25.140620</td>\n",
       "      <td>0.615071</td>\n",
       "      <td>0.393075</td>\n",
       "      <td>13.675550</td>\n",
       "    </tr>\n",
       "  </tbody>\n",
       "</table>\n",
       "</div>"
      ],
      "text/plain": [
       "        PassengerId  Survived        Age     SibSp     Parch       Fare\n",
       "Pclass                                                                 \n",
       "1        461.597222  0.629630  38.233441  0.416667  0.356481  84.154687\n",
       "2        445.956522  0.472826  29.877630  0.402174  0.380435  20.662183\n",
       "3        439.154786  0.242363  25.140620  0.615071  0.393075  13.675550"
      ]
     },
     "execution_count": 12,
     "metadata": {},
     "output_type": "execute_result"
    }
   ],
   "source": [
    "train_data.groupby(\"Pclass\").mean()"
   ]
  },
  {
   "cell_type": "code",
   "execution_count": 13,
   "id": "nearby-syndrome",
   "metadata": {
    "execution": {
     "iopub.execute_input": "2021-06-14T19:41:14.383120Z",
     "iopub.status.busy": "2021-06-14T19:41:14.382153Z",
     "iopub.status.idle": "2021-06-14T19:41:14.386934Z",
     "shell.execute_reply": "2021-06-14T19:41:14.386287Z",
     "shell.execute_reply.started": "2021-06-14T19:35:19.039831Z"
    },
    "papermill": {
     "duration": 0.056529,
     "end_time": "2021-06-14T19:41:14.387092",
     "exception": false,
     "start_time": "2021-06-14T19:41:14.330563",
     "status": "completed"
    },
    "tags": []
   },
   "outputs": [
    {
     "data": {
      "text/html": [
       "<div>\n",
       "<style scoped>\n",
       "    .dataframe tbody tr th:only-of-type {\n",
       "        vertical-align: middle;\n",
       "    }\n",
       "\n",
       "    .dataframe tbody tr th {\n",
       "        vertical-align: top;\n",
       "    }\n",
       "\n",
       "    .dataframe thead th {\n",
       "        text-align: right;\n",
       "    }\n",
       "</style>\n",
       "<table border=\"1\" class=\"dataframe\">\n",
       "  <thead>\n",
       "    <tr style=\"text-align: right;\">\n",
       "      <th></th>\n",
       "      <th>PassengerId</th>\n",
       "      <th>Survived</th>\n",
       "      <th>Pclass</th>\n",
       "      <th>Age</th>\n",
       "      <th>Parch</th>\n",
       "      <th>Fare</th>\n",
       "    </tr>\n",
       "    <tr>\n",
       "      <th>SibSp</th>\n",
       "      <th></th>\n",
       "      <th></th>\n",
       "      <th></th>\n",
       "      <th></th>\n",
       "      <th></th>\n",
       "      <th></th>\n",
       "    </tr>\n",
       "  </thead>\n",
       "  <tbody>\n",
       "    <tr>\n",
       "      <th>0</th>\n",
       "      <td>455.370066</td>\n",
       "      <td>0.345395</td>\n",
       "      <td>2.351974</td>\n",
       "      <td>31.397558</td>\n",
       "      <td>0.185855</td>\n",
       "      <td>25.692028</td>\n",
       "    </tr>\n",
       "    <tr>\n",
       "      <th>1</th>\n",
       "      <td>439.727273</td>\n",
       "      <td>0.535885</td>\n",
       "      <td>2.057416</td>\n",
       "      <td>30.089727</td>\n",
       "      <td>0.655502</td>\n",
       "      <td>44.147370</td>\n",
       "    </tr>\n",
       "    <tr>\n",
       "      <th>2</th>\n",
       "      <td>412.428571</td>\n",
       "      <td>0.464286</td>\n",
       "      <td>2.357143</td>\n",
       "      <td>22.620000</td>\n",
       "      <td>0.642857</td>\n",
       "      <td>51.753718</td>\n",
       "    </tr>\n",
       "    <tr>\n",
       "      <th>3</th>\n",
       "      <td>321.562500</td>\n",
       "      <td>0.250000</td>\n",
       "      <td>2.562500</td>\n",
       "      <td>13.916667</td>\n",
       "      <td>1.312500</td>\n",
       "      <td>68.908862</td>\n",
       "    </tr>\n",
       "    <tr>\n",
       "      <th>4</th>\n",
       "      <td>381.611111</td>\n",
       "      <td>0.166667</td>\n",
       "      <td>3.000000</td>\n",
       "      <td>7.055556</td>\n",
       "      <td>1.500000</td>\n",
       "      <td>31.855556</td>\n",
       "    </tr>\n",
       "    <tr>\n",
       "      <th>5</th>\n",
       "      <td>336.800000</td>\n",
       "      <td>0.000000</td>\n",
       "      <td>3.000000</td>\n",
       "      <td>10.200000</td>\n",
       "      <td>2.000000</td>\n",
       "      <td>46.900000</td>\n",
       "    </tr>\n",
       "    <tr>\n",
       "      <th>8</th>\n",
       "      <td>481.714286</td>\n",
       "      <td>0.000000</td>\n",
       "      <td>3.000000</td>\n",
       "      <td>NaN</td>\n",
       "      <td>2.000000</td>\n",
       "      <td>69.550000</td>\n",
       "    </tr>\n",
       "  </tbody>\n",
       "</table>\n",
       "</div>"
      ],
      "text/plain": [
       "       PassengerId  Survived    Pclass        Age     Parch       Fare\n",
       "SibSp                                                                 \n",
       "0       455.370066  0.345395  2.351974  31.397558  0.185855  25.692028\n",
       "1       439.727273  0.535885  2.057416  30.089727  0.655502  44.147370\n",
       "2       412.428571  0.464286  2.357143  22.620000  0.642857  51.753718\n",
       "3       321.562500  0.250000  2.562500  13.916667  1.312500  68.908862\n",
       "4       381.611111  0.166667  3.000000   7.055556  1.500000  31.855556\n",
       "5       336.800000  0.000000  3.000000  10.200000  2.000000  46.900000\n",
       "8       481.714286  0.000000  3.000000        NaN  2.000000  69.550000"
      ]
     },
     "execution_count": 13,
     "metadata": {},
     "output_type": "execute_result"
    }
   ],
   "source": [
    "train_data.groupby(\"SibSp\").mean()"
   ]
  },
  {
   "cell_type": "code",
   "execution_count": 14,
   "id": "crude-booth",
   "metadata": {
    "execution": {
     "iopub.execute_input": "2021-06-14T19:41:14.468000Z",
     "iopub.status.busy": "2021-06-14T19:41:14.467227Z",
     "iopub.status.idle": "2021-06-14T19:41:14.482775Z",
     "shell.execute_reply": "2021-06-14T19:41:14.482124Z",
     "shell.execute_reply.started": "2021-06-14T19:35:19.061948Z"
    },
    "papermill": {
     "duration": 0.056576,
     "end_time": "2021-06-14T19:41:14.482916",
     "exception": false,
     "start_time": "2021-06-14T19:41:14.426340",
     "status": "completed"
    },
    "tags": []
   },
   "outputs": [
    {
     "data": {
      "text/html": [
       "<div>\n",
       "<style scoped>\n",
       "    .dataframe tbody tr th:only-of-type {\n",
       "        vertical-align: middle;\n",
       "    }\n",
       "\n",
       "    .dataframe tbody tr th {\n",
       "        vertical-align: top;\n",
       "    }\n",
       "\n",
       "    .dataframe thead th {\n",
       "        text-align: right;\n",
       "    }\n",
       "</style>\n",
       "<table border=\"1\" class=\"dataframe\">\n",
       "  <thead>\n",
       "    <tr style=\"text-align: right;\">\n",
       "      <th></th>\n",
       "      <th>PassengerId</th>\n",
       "      <th>Survived</th>\n",
       "      <th>Pclass</th>\n",
       "      <th>Age</th>\n",
       "      <th>SibSp</th>\n",
       "      <th>Fare</th>\n",
       "    </tr>\n",
       "    <tr>\n",
       "      <th>Parch</th>\n",
       "      <th></th>\n",
       "      <th></th>\n",
       "      <th></th>\n",
       "      <th></th>\n",
       "      <th></th>\n",
       "      <th></th>\n",
       "    </tr>\n",
       "  </thead>\n",
       "  <tbody>\n",
       "    <tr>\n",
       "      <th>0</th>\n",
       "      <td>445.255162</td>\n",
       "      <td>0.343658</td>\n",
       "      <td>2.321534</td>\n",
       "      <td>32.178503</td>\n",
       "      <td>0.237463</td>\n",
       "      <td>25.586774</td>\n",
       "    </tr>\n",
       "    <tr>\n",
       "      <th>1</th>\n",
       "      <td>465.110169</td>\n",
       "      <td>0.550847</td>\n",
       "      <td>2.203390</td>\n",
       "      <td>24.422000</td>\n",
       "      <td>1.084746</td>\n",
       "      <td>46.778180</td>\n",
       "    </tr>\n",
       "    <tr>\n",
       "      <th>2</th>\n",
       "      <td>416.662500</td>\n",
       "      <td>0.500000</td>\n",
       "      <td>2.275000</td>\n",
       "      <td>17.216912</td>\n",
       "      <td>2.062500</td>\n",
       "      <td>64.337604</td>\n",
       "    </tr>\n",
       "    <tr>\n",
       "      <th>3</th>\n",
       "      <td>579.200000</td>\n",
       "      <td>0.600000</td>\n",
       "      <td>2.600000</td>\n",
       "      <td>33.200000</td>\n",
       "      <td>1.000000</td>\n",
       "      <td>25.951660</td>\n",
       "    </tr>\n",
       "    <tr>\n",
       "      <th>4</th>\n",
       "      <td>384.000000</td>\n",
       "      <td>0.000000</td>\n",
       "      <td>2.500000</td>\n",
       "      <td>44.500000</td>\n",
       "      <td>0.750000</td>\n",
       "      <td>84.968750</td>\n",
       "    </tr>\n",
       "    <tr>\n",
       "      <th>5</th>\n",
       "      <td>435.200000</td>\n",
       "      <td>0.200000</td>\n",
       "      <td>3.000000</td>\n",
       "      <td>39.200000</td>\n",
       "      <td>0.600000</td>\n",
       "      <td>32.550000</td>\n",
       "    </tr>\n",
       "    <tr>\n",
       "      <th>6</th>\n",
       "      <td>679.000000</td>\n",
       "      <td>0.000000</td>\n",
       "      <td>3.000000</td>\n",
       "      <td>43.000000</td>\n",
       "      <td>1.000000</td>\n",
       "      <td>46.900000</td>\n",
       "    </tr>\n",
       "  </tbody>\n",
       "</table>\n",
       "</div>"
      ],
      "text/plain": [
       "       PassengerId  Survived    Pclass        Age     SibSp       Fare\n",
       "Parch                                                                 \n",
       "0       445.255162  0.343658  2.321534  32.178503  0.237463  25.586774\n",
       "1       465.110169  0.550847  2.203390  24.422000  1.084746  46.778180\n",
       "2       416.662500  0.500000  2.275000  17.216912  2.062500  64.337604\n",
       "3       579.200000  0.600000  2.600000  33.200000  1.000000  25.951660\n",
       "4       384.000000  0.000000  2.500000  44.500000  0.750000  84.968750\n",
       "5       435.200000  0.200000  3.000000  39.200000  0.600000  32.550000\n",
       "6       679.000000  0.000000  3.000000  43.000000  1.000000  46.900000"
      ]
     },
     "execution_count": 14,
     "metadata": {},
     "output_type": "execute_result"
    }
   ],
   "source": [
    "train_data.groupby(\"Parch\").mean()"
   ]
  },
  {
   "cell_type": "markdown",
   "id": "considerable-representative",
   "metadata": {
    "papermill": {
     "duration": 0.035282,
     "end_time": "2021-06-14T19:41:14.555000",
     "exception": false,
     "start_time": "2021-06-14T19:41:14.519718",
     "status": "completed"
    },
    "tags": []
   },
   "source": [
    "Add some additional features - \n",
    "\n",
    "First extract the title from the name - could be an indicator of social status, which may be relevant to survival rate. We already know that sex is a huge influencer - but the rarer titles may also influence the outcome"
   ]
  },
  {
   "cell_type": "code",
   "execution_count": 15,
   "id": "exciting-riding",
   "metadata": {
    "execution": {
     "iopub.execute_input": "2021-06-14T19:41:14.637399Z",
     "iopub.status.busy": "2021-06-14T19:41:14.636719Z",
     "iopub.status.idle": "2021-06-14T19:41:14.648211Z",
     "shell.execute_reply": "2021-06-14T19:41:14.648738Z",
     "shell.execute_reply.started": "2021-06-14T19:35:19.087423Z"
    },
    "papermill": {
     "duration": 0.058474,
     "end_time": "2021-06-14T19:41:14.648929",
     "exception": false,
     "start_time": "2021-06-14T19:41:14.590455",
     "status": "completed"
    },
    "tags": []
   },
   "outputs": [],
   "source": [
    "data = [train_data, test_data]\n",
    "\n",
    "for dataset in data:\n",
    "    dataset[\"Title\"] = dataset[\"Name\"].str.extract(\" ([A-Za-z]+)\\.\", expand=False)\n",
    "    dataset[\"Title\"] = dataset[\"Title\"].replace([\"Lady\", \"Countess\", \"Capt\", \"Col\", \"Don\", \"Dr\",\"Major\", \"Rev\", \"Sir\", \"Jonkheer\", \"Dona\"], \"Rare\")\n",
    "    dataset[\"Title\"] = dataset[\"Title\"].replace(\"Mlle\", \"Miss\")\n",
    "    dataset[\"Title\"] = dataset[\"Title\"].replace(\"Ms\", \"Miss\")\n",
    "    dataset[\"Title\"] = dataset[\"Title\"].replace(\"Mme\", \"Mrs\")\n",
    "    dataset[\"Title\"] = dataset[\"Title\"].fillna(\"Unknown\")"
   ]
  },
  {
   "cell_type": "code",
   "execution_count": 16,
   "id": "quarterly-vinyl",
   "metadata": {
    "execution": {
     "iopub.execute_input": "2021-06-14T19:41:14.730382Z",
     "iopub.status.busy": "2021-06-14T19:41:14.727648Z",
     "iopub.status.idle": "2021-06-14T19:41:15.178040Z",
     "shell.execute_reply": "2021-06-14T19:41:15.177438Z",
     "shell.execute_reply.started": "2021-06-14T19:35:19.109736Z"
    },
    "papermill": {
     "duration": 0.493532,
     "end_time": "2021-06-14T19:41:15.178181",
     "exception": false,
     "start_time": "2021-06-14T19:41:14.684649",
     "status": "completed"
    },
    "tags": []
   },
   "outputs": [
    {
     "data": {
      "text/plain": [
       "<seaborn.axisgrid.FacetGrid at 0x7fa09683e310>"
      ]
     },
     "execution_count": 16,
     "metadata": {},
     "output_type": "execute_result"
    },
    {
     "data": {
      "image/png": "[encoded data removed]",
      "text/plain": [
       "<Figure size 900x360 with 1 Axes>"
      ]
     },
     "metadata": {
      "needs_background": "light"
     },
     "output_type": "display_data"
    }
   ],
   "source": [
    "sns.catplot(data=train_data, x=\"Title\", y=\"Survived\", aspect=2.5, kind=\"bar\")"
   ]
  },
  {
   "cell_type": "markdown",
   "id": "internal-tomato",
   "metadata": {
    "papermill": {
     "duration": 0.036874,
     "end_time": "2021-06-14T19:41:15.252168",
     "exception": false,
     "start_time": "2021-06-14T19:41:15.215294",
     "status": "completed"
    },
    "tags": []
   },
   "source": [
    "Use the Parch & SibSp features to count the number of people travelling - also add a flag for travelling alone or not - as per below visualisations these appear to influence the surival rate"
   ]
  },
  {
   "cell_type": "code",
   "execution_count": 17,
   "id": "exciting-belize",
   "metadata": {
    "execution": {
     "iopub.execute_input": "2021-06-14T19:41:15.331682Z",
     "iopub.status.busy": "2021-06-14T19:41:15.330959Z",
     "iopub.status.idle": "2021-06-14T19:41:15.368867Z",
     "shell.execute_reply": "2021-06-14T19:41:15.368318Z",
     "shell.execute_reply.started": "2021-06-14T19:35:19.591496Z"
    },
    "papermill": {
     "duration": 0.08034,
     "end_time": "2021-06-14T19:41:15.369014",
     "exception": false,
     "start_time": "2021-06-14T19:41:15.288674",
     "status": "completed"
    },
    "tags": []
   },
   "outputs": [
    {
     "data": {
      "text/html": [
       "<div>\n",
       "<style scoped>\n",
       "    .dataframe tbody tr th:only-of-type {\n",
       "        vertical-align: middle;\n",
       "    }\n",
       "\n",
       "    .dataframe tbody tr th {\n",
       "        vertical-align: top;\n",
       "    }\n",
       "\n",
       "    .dataframe thead th {\n",
       "        text-align: right;\n",
       "    }\n",
       "</style>\n",
       "<table border=\"1\" class=\"dataframe\">\n",
       "  <thead>\n",
       "    <tr style=\"text-align: right;\">\n",
       "      <th></th>\n",
       "      <th>PassengerId</th>\n",
       "      <th>Survived</th>\n",
       "      <th>Pclass</th>\n",
       "      <th>Age</th>\n",
       "      <th>SibSp</th>\n",
       "      <th>Parch</th>\n",
       "      <th>Fare</th>\n",
       "      <th>Relatives</th>\n",
       "    </tr>\n",
       "    <tr>\n",
       "      <th>TravelledAlone</th>\n",
       "      <th></th>\n",
       "      <th></th>\n",
       "      <th></th>\n",
       "      <th></th>\n",
       "      <th></th>\n",
       "      <th></th>\n",
       "      <th></th>\n",
       "      <th></th>\n",
       "    </tr>\n",
       "  </thead>\n",
       "  <tbody>\n",
       "    <tr>\n",
       "      <th>No</th>\n",
       "      <td>427.79661</td>\n",
       "      <td>0.505650</td>\n",
       "      <td>2.169492</td>\n",
       "      <td>26.413452</td>\n",
       "      <td>1.316384</td>\n",
       "      <td>0.960452</td>\n",
       "      <td>48.832275</td>\n",
       "      <td>2.276836</td>\n",
       "    </tr>\n",
       "    <tr>\n",
       "      <th>Yes</th>\n",
       "      <td>458.00000</td>\n",
       "      <td>0.303538</td>\n",
       "      <td>2.400372</td>\n",
       "      <td>32.220297</td>\n",
       "      <td>0.000000</td>\n",
       "      <td>0.000000</td>\n",
       "      <td>21.242689</td>\n",
       "      <td>0.000000</td>\n",
       "    </tr>\n",
       "  </tbody>\n",
       "</table>\n",
       "</div>"
      ],
      "text/plain": [
       "                PassengerId  Survived    Pclass        Age     SibSp  \\\n",
       "TravelledAlone                                                         \n",
       "No                427.79661  0.505650  2.169492  26.413452  1.316384   \n",
       "Yes               458.00000  0.303538  2.400372  32.220297  0.000000   \n",
       "\n",
       "                   Parch       Fare  Relatives  \n",
       "TravelledAlone                                  \n",
       "No              0.960452  48.832275   2.276836  \n",
       "Yes             0.000000  21.242689   0.000000  "
      ]
     },
     "execution_count": 17,
     "metadata": {},
     "output_type": "execute_result"
    }
   ],
   "source": [
    "datasets = [train_data, test_data]\n",
    "\n",
    "for dataset in datasets:\n",
    "    dataset[\"Relatives\"] = dataset[\"Parch\"] + dataset[\"SibSp\"]\n",
    "    dataset.loc[dataset[\"Relatives\"] == 0, \"TravelledAlone\"] = \"Yes\"\n",
    "    dataset.loc[dataset[\"Relatives\"] > 0, \"TravelledAlone\"] = \"No\"\n",
    "    \n",
    "train_data.groupby(\"TravelledAlone\").mean()"
   ]
  },
  {
   "cell_type": "code",
   "execution_count": 18,
   "id": "medium-journalism",
   "metadata": {
    "execution": {
     "iopub.execute_input": "2021-06-14T19:41:15.451220Z",
     "iopub.status.busy": "2021-06-14T19:41:15.450537Z",
     "iopub.status.idle": "2021-06-14T19:41:16.038873Z",
     "shell.execute_reply": "2021-06-14T19:41:16.038190Z",
     "shell.execute_reply.started": "2021-06-14T19:35:19.634994Z"
    },
    "papermill": {
     "duration": 0.63151,
     "end_time": "2021-06-14T19:41:16.039019",
     "exception": false,
     "start_time": "2021-06-14T19:41:15.407509",
     "status": "completed"
    },
    "tags": []
   },
   "outputs": [
    {
     "data": {
      "text/plain": [
       "<seaborn.axisgrid.FacetGrid at 0x7fa08e746690>"
      ]
     },
     "execution_count": 18,
     "metadata": {},
     "output_type": "execute_result"
    },
    {
     "data": {
      "image/png": "[encoded data removed]",
      "text/plain": [
       "<Figure size 900x360 with 1 Axes>"
      ]
     },
     "metadata": {
      "needs_background": "light"
     },
     "output_type": "display_data"
    }
   ],
   "source": [
    "sns.catplot(data=train_data, x=\"Relatives\", y=\"Survived\", aspect=2.5, kind=\"bar\")"
   ]
  },
  {
   "cell_type": "markdown",
   "id": "another-hungarian",
   "metadata": {
    "papermill": {
     "duration": 0.038644,
     "end_time": "2021-06-14T19:41:16.117167",
     "exception": false,
     "start_time": "2021-06-14T19:41:16.078523",
     "status": "completed"
    },
    "tags": []
   },
   "source": [
    "Travelling alone, if you were male, had a negative impact on your chances of survival - women however survived more often when travelling alone!"
   ]
  },
  {
   "cell_type": "code",
   "execution_count": 19,
   "id": "tribal-snake",
   "metadata": {
    "execution": {
     "iopub.execute_input": "2021-06-14T19:41:16.203356Z",
     "iopub.status.busy": "2021-06-14T19:41:16.202683Z",
     "iopub.status.idle": "2021-06-14T19:41:16.821370Z",
     "shell.execute_reply": "2021-06-14T19:41:16.821869Z",
     "shell.execute_reply.started": "2021-06-14T19:35:20.230310Z"
    },
    "papermill": {
     "duration": 0.665294,
     "end_time": "2021-06-14T19:41:16.822057",
     "exception": false,
     "start_time": "2021-06-14T19:41:16.156763",
     "status": "completed"
    },
    "tags": []
   },
   "outputs": [
    {
     "data": {
      "text/plain": [
       "<seaborn.axisgrid.FacetGrid at 0x7fa08e72d7d0>"
      ]
     },
     "execution_count": 19,
     "metadata": {},
     "output_type": "execute_result"
    },
    {
     "data": {
      "image/png": "[encoded data removed]",
      "text/plain": [
       "<Figure size 430.5x360 with 1 Axes>"
      ]
     },
     "metadata": {
      "needs_background": "light"
     },
     "output_type": "display_data"
    }
   ],
   "source": [
    "sns.catplot(data=train_data, x=\"TravelledAlone\", y=\"Survived\", kind=\"bar\", hue=\"Sex\")"
   ]
  },
  {
   "cell_type": "markdown",
   "id": "bigger-order",
   "metadata": {
    "papermill": {
     "duration": 0.040497,
     "end_time": "2021-06-14T19:41:16.903701",
     "exception": false,
     "start_time": "2021-06-14T19:41:16.863204",
     "status": "completed"
    },
    "tags": []
   },
   "source": [
    "Strip out the first character from the Cabin feature - this appears to be the deck - could be relevant"
   ]
  },
  {
   "cell_type": "code",
   "execution_count": 20,
   "id": "defensive-perfume",
   "metadata": {
    "execution": {
     "iopub.execute_input": "2021-06-14T19:41:16.991910Z",
     "iopub.status.busy": "2021-06-14T19:41:16.991197Z",
     "iopub.status.idle": "2021-06-14T19:41:16.994318Z",
     "shell.execute_reply": "2021-06-14T19:41:16.993797Z",
     "shell.execute_reply.started": "2021-06-14T19:35:20.796299Z"
    },
    "papermill": {
     "duration": 0.051285,
     "end_time": "2021-06-14T19:41:16.994464",
     "exception": false,
     "start_time": "2021-06-14T19:41:16.943179",
     "status": "completed"
    },
    "tags": []
   },
   "outputs": [],
   "source": [
    "train_data[\"Deck\"] = train_data[\"Cabin\"].str.slice(stop=1)\n",
    "test_data[\"Deck\"] = train_data[\"Cabin\"].str.slice(stop=1)"
   ]
  },
  {
   "cell_type": "code",
   "execution_count": 21,
   "id": "acting-demographic",
   "metadata": {
    "execution": {
     "iopub.execute_input": "2021-06-14T19:41:17.082401Z",
     "iopub.status.busy": "2021-06-14T19:41:17.081413Z",
     "iopub.status.idle": "2021-06-14T19:41:17.086086Z",
     "shell.execute_reply": "2021-06-14T19:41:17.085550Z",
     "shell.execute_reply.started": "2021-06-14T19:35:20.807044Z"
    },
    "papermill": {
     "duration": 0.052136,
     "end_time": "2021-06-14T19:41:17.086226",
     "exception": false,
     "start_time": "2021-06-14T19:41:17.034090",
     "status": "completed"
    },
    "tags": []
   },
   "outputs": [
    {
     "data": {
      "text/plain": [
       "C    59\n",
       "B    47\n",
       "D    33\n",
       "E    32\n",
       "A    15\n",
       "F    13\n",
       "G     4\n",
       "T     1\n",
       "Name: Deck, dtype: int64"
      ]
     },
     "execution_count": 21,
     "metadata": {},
     "output_type": "execute_result"
    }
   ],
   "source": [
    "train_data[\"Deck\"].value_counts()"
   ]
  },
  {
   "cell_type": "code",
   "execution_count": 22,
   "id": "known-hormone",
   "metadata": {
    "execution": {
     "iopub.execute_input": "2021-06-14T19:41:17.174770Z",
     "iopub.status.busy": "2021-06-14T19:41:17.174045Z",
     "iopub.status.idle": "2021-06-14T19:41:17.730998Z",
     "shell.execute_reply": "2021-06-14T19:41:17.730293Z",
     "shell.execute_reply.started": "2021-06-14T19:35:20.827425Z"
    },
    "papermill": {
     "duration": 0.603285,
     "end_time": "2021-06-14T19:41:17.731148",
     "exception": false,
     "start_time": "2021-06-14T19:41:17.127863",
     "status": "completed"
    },
    "tags": []
   },
   "outputs": [
    {
     "data": {
      "text/plain": [
       "<seaborn.axisgrid.FacetGrid at 0x7fa08c3d2d50>"
      ]
     },
     "execution_count": 22,
     "metadata": {},
     "output_type": "execute_result"
    },
    {
     "data": {
      "image/png": "[encoded data removed]",
      "text/plain": [
       "<Figure size 900x360 with 1 Axes>"
      ]
     },
     "metadata": {
      "needs_background": "light"
     },
     "output_type": "display_data"
    }
   ],
   "source": [
    "sns.catplot(data=train_data, x=\"Deck\", y=\"Survived\", kind=\"bar\", aspect=2.5)"
   ]
  },
  {
   "cell_type": "code",
   "execution_count": 23,
   "id": "indie-burning",
   "metadata": {
    "execution": {
     "iopub.execute_input": "2021-06-14T19:41:17.819062Z",
     "iopub.status.busy": "2021-06-14T19:41:17.818149Z",
     "iopub.status.idle": "2021-06-14T19:41:18.203369Z",
     "shell.execute_reply": "2021-06-14T19:41:18.202827Z",
     "shell.execute_reply.started": "2021-06-14T19:35:21.338783Z"
    },
    "papermill": {
     "duration": 0.431637,
     "end_time": "2021-06-14T19:41:18.203505",
     "exception": false,
     "start_time": "2021-06-14T19:41:17.771868",
     "status": "completed"
    },
    "tags": []
   },
   "outputs": [
    {
     "data": {
      "text/plain": [
       "<seaborn.axisgrid.FacetGrid at 0x7fa08c3d2650>"
      ]
     },
     "execution_count": 23,
     "metadata": {},
     "output_type": "execute_result"
    },
    {
     "data": {
      "image/png": "[encoded data removed]",
      "text/plain": [
       "<Figure size 900x360 with 1 Axes>"
      ]
     },
     "metadata": {
      "needs_background": "light"
     },
     "output_type": "display_data"
    }
   ],
   "source": [
    "sns.catplot(data=train_data, x=\"Pclass\", y=\"Survived\", kind=\"bar\", aspect=2.5)"
   ]
  },
  {
   "cell_type": "markdown",
   "id": "fiscal-classics",
   "metadata": {
    "papermill": {
     "duration": 0.041478,
     "end_time": "2021-06-14T19:41:18.286911",
     "exception": false,
     "start_time": "2021-06-14T19:41:18.245433",
     "status": "completed"
    },
    "tags": []
   },
   "source": [
    "Dropping the original features that we have already engineered."
   ]
  },
  {
   "cell_type": "code",
   "execution_count": 24,
   "id": "average-chest",
   "metadata": {
    "execution": {
     "iopub.execute_input": "2021-06-14T19:41:18.377244Z",
     "iopub.status.busy": "2021-06-14T19:41:18.376054Z",
     "iopub.status.idle": "2021-06-14T19:41:18.380576Z",
     "shell.execute_reply": "2021-06-14T19:41:18.379955Z",
     "shell.execute_reply.started": "2021-06-14T19:35:21.679288Z"
    },
    "papermill": {
     "duration": 0.052441,
     "end_time": "2021-06-14T19:41:18.380734",
     "exception": false,
     "start_time": "2021-06-14T19:41:18.328293",
     "status": "completed"
    },
    "tags": []
   },
   "outputs": [],
   "source": [
    "train_data.drop([\"Name\", \"Ticket\", \"SibSp\", \"Parch\", \"Cabin\"], axis=1, inplace=True)\n",
    "test_data.drop([\"Name\", \"Ticket\", \"SibSp\", \"Parch\", \"Cabin\"], axis=1, inplace=True)"
   ]
  },
  {
   "cell_type": "code",
   "execution_count": 25,
   "id": "figured-accident",
   "metadata": {
    "execution": {
     "iopub.execute_input": "2021-06-14T19:41:18.472801Z",
     "iopub.status.busy": "2021-06-14T19:41:18.472098Z",
     "iopub.status.idle": "2021-06-14T19:41:18.477707Z",
     "shell.execute_reply": "2021-06-14T19:41:18.477177Z",
     "shell.execute_reply.started": "2021-06-14T19:35:21.690104Z"
    },
    "papermill": {
     "duration": 0.05486,
     "end_time": "2021-06-14T19:41:18.477855",
     "exception": false,
     "start_time": "2021-06-14T19:41:18.422995",
     "status": "completed"
    },
    "tags": []
   },
   "outputs": [
    {
     "data": {
      "text/plain": [
       "PassengerId         0\n",
       "Survived            0\n",
       "Pclass              0\n",
       "Sex                 0\n",
       "Age               177\n",
       "Fare                0\n",
       "Embarked            2\n",
       "Title               0\n",
       "Relatives           0\n",
       "TravelledAlone      0\n",
       "Deck              687\n",
       "dtype: int64"
      ]
     },
     "execution_count": 25,
     "metadata": {},
     "output_type": "execute_result"
    }
   ],
   "source": [
    "train_data.isna().sum()"
   ]
  },
  {
   "cell_type": "markdown",
   "id": "alpine-fight",
   "metadata": {
    "papermill": {
     "duration": 0.041992,
     "end_time": "2021-06-14T19:41:18.562071",
     "exception": false,
     "start_time": "2021-06-14T19:41:18.520079",
     "status": "completed"
    },
    "tags": []
   },
   "source": [
    "Define a pipeline (probably not needed - this is just for my own practice)"
   ]
  },
  {
   "cell_type": "code",
   "execution_count": 26,
   "id": "dense-isaac",
   "metadata": {
    "execution": {
     "iopub.execute_input": "2021-06-14T19:41:18.653465Z",
     "iopub.status.busy": "2021-06-14T19:41:18.652814Z",
     "iopub.status.idle": "2021-06-14T19:41:18.657740Z",
     "shell.execute_reply": "2021-06-14T19:41:18.657177Z",
     "shell.execute_reply.started": "2021-06-14T19:35:21.706663Z"
    },
    "papermill": {
     "duration": 0.052795,
     "end_time": "2021-06-14T19:41:18.657884",
     "exception": false,
     "start_time": "2021-06-14T19:41:18.605089",
     "status": "completed"
    },
    "tags": []
   },
   "outputs": [],
   "source": [
    "y = train_data[\"Survived\"]\n",
    "train_data.drop(\"Survived\", axis=1, inplace=True)"
   ]
  },
  {
   "cell_type": "code",
   "execution_count": 27,
   "id": "russian-booth",
   "metadata": {
    "execution": {
     "iopub.execute_input": "2021-06-14T19:41:18.750444Z",
     "iopub.status.busy": "2021-06-14T19:41:18.749731Z",
     "iopub.status.idle": "2021-06-14T19:41:18.751749Z",
     "shell.execute_reply": "2021-06-14T19:41:18.752212Z",
     "shell.execute_reply.started": "2021-06-14T19:35:21.721870Z"
    },
    "papermill": {
     "duration": 0.052595,
     "end_time": "2021-06-14T19:41:18.752386",
     "exception": false,
     "start_time": "2021-06-14T19:41:18.699791",
     "status": "completed"
    },
    "tags": []
   },
   "outputs": [],
   "source": [
    "numerical_cols = [cname for cname in train_data.columns if train_data[cname].dtype in [\"float64\", \"int64\"]]\n",
    "categorical_cols = [cname for cname in train_data.columns if train_data[cname].dtype == \"object\"]\n",
    "\n",
    "numerical_transformer = SimpleImputer(strategy=\"mean\")\n",
    "categorical_transformer = Pipeline(steps=[\n",
    "    (\"imputer\", SimpleImputer(strategy=\"constant\")),\n",
    "    (\"onehot\", OneHotEncoder(handle_unknown=\"ignore\"))\n",
    "])\n",
    "\n",
    "preprocessor = ColumnTransformer(\n",
    "    transformers=[\n",
    "        (\"num\", numerical_transformer, numerical_cols),\n",
    "        (\"cat\", categorical_transformer, categorical_cols)\n",
    "    ])"
   ]
  },
  {
   "cell_type": "raw",
   "id": "third-hearing",
   "metadata": {
    "papermill": {
     "duration": 0.0416,
     "end_time": "2021-06-14T19:41:18.835972",
     "exception": false,
     "start_time": "2021-06-14T19:41:18.794372",
     "status": "completed"
    },
    "tags": []
   },
   "source": [
    "Create a function to score the model - going with cv=2 as the dataset is tiny"
   ]
  },
  {
   "cell_type": "code",
   "execution_count": 28,
   "id": "german-clearing",
   "metadata": {
    "execution": {
     "iopub.execute_input": "2021-06-14T19:41:18.922945Z",
     "iopub.status.busy": "2021-06-14T19:41:18.922254Z",
     "iopub.status.idle": "2021-06-14T19:41:18.928358Z",
     "shell.execute_reply": "2021-06-14T19:41:18.927534Z",
     "shell.execute_reply.started": "2021-06-14T19:35:21.733063Z"
    },
    "papermill": {
     "duration": 0.050446,
     "end_time": "2021-06-14T19:41:18.928509",
     "exception": false,
     "start_time": "2021-06-14T19:41:18.878063",
     "status": "completed"
    },
    "tags": []
   },
   "outputs": [],
   "source": [
    "def score_model(train, target, n_estimators, max_depth):\n",
    "    my_model = RandomForestClassifier(n_estimators=n_estimators, max_depth=max_depth, random_state=0)\n",
    "    my_pipeline = Pipeline(steps=[\n",
    "        (\"preprocessor\", preprocessor),\n",
    "        (\"model\", my_model)\n",
    "    ])\n",
    "\n",
    "    cv_scores = cross_val_score(my_pipeline, train, target, cv=2, scoring=\"accuracy\")\n",
    "    \n",
    "    return cv_scores"
   ]
  },
  {
   "cell_type": "code",
   "execution_count": 29,
   "id": "computational-remains",
   "metadata": {
    "execution": {
     "iopub.execute_input": "2021-06-14T19:41:19.021142Z",
     "iopub.status.busy": "2021-06-14T19:41:19.020377Z",
     "iopub.status.idle": "2021-06-14T19:41:30.740768Z",
     "shell.execute_reply": "2021-06-14T19:41:30.739914Z",
     "shell.execute_reply.started": "2021-06-14T19:35:21.746854Z"
    },
    "papermill": {
     "duration": 11.769434,
     "end_time": "2021-06-14T19:41:30.740921",
     "exception": false,
     "start_time": "2021-06-14T19:41:18.971487",
     "status": "completed"
    },
    "tags": []
   },
   "outputs": [],
   "source": [
    "n_estimators = [50, 100, 150, 200, 250, 300, 350, 400, 450, 500]\n",
    "\n",
    "scores = {str(i): score_model(train_data, y, i, 5).mean() for i in n_estimators}\n"
   ]
  },
  {
   "cell_type": "code",
   "execution_count": 30,
   "id": "defined-cabinet",
   "metadata": {
    "execution": {
     "iopub.execute_input": "2021-06-14T19:41:30.828596Z",
     "iopub.status.busy": "2021-06-14T19:41:30.827582Z",
     "iopub.status.idle": "2021-06-14T19:41:30.833380Z",
     "shell.execute_reply": "2021-06-14T19:41:30.833867Z",
     "shell.execute_reply.started": "2021-06-14T19:35:33.577293Z"
    },
    "papermill": {
     "duration": 0.051129,
     "end_time": "2021-06-14T19:41:30.834044",
     "exception": false,
     "start_time": "2021-06-14T19:41:30.782915",
     "status": "completed"
    },
    "tags": []
   },
   "outputs": [
    {
     "data": {
      "text/plain": [
       "{'50': 0.7755857308409331,\n",
       " '100': 0.7699803496750138,\n",
       " '150': 0.7789439209956165,\n",
       " '200': 0.7867939739003376,\n",
       " '250': 0.7879125308610873,\n",
       " '300': 0.7856703783947196,\n",
       " '350': 0.7879125308610873,\n",
       " '400': 0.7879125308610873,\n",
       " '450': 0.7856703783947196,\n",
       " '500': 0.7856703783947196}"
      ]
     },
     "execution_count": 30,
     "metadata": {},
     "output_type": "execute_result"
    }
   ],
   "source": [
    "scores"
   ]
  },
  {
   "cell_type": "code",
   "execution_count": 31,
   "id": "patient-savage",
   "metadata": {
    "execution": {
     "iopub.execute_input": "2021-06-14T19:41:30.921070Z",
     "iopub.status.busy": "2021-06-14T19:41:30.920405Z",
     "iopub.status.idle": "2021-06-14T19:41:31.094308Z",
     "shell.execute_reply": "2021-06-14T19:41:31.094790Z",
     "shell.execute_reply.started": "2021-06-14T19:35:33.584951Z"
    },
    "papermill": {
     "duration": 0.218824,
     "end_time": "2021-06-14T19:41:31.095002",
     "exception": false,
     "start_time": "2021-06-14T19:41:30.876178",
     "status": "completed"
    },
    "tags": []
   },
   "outputs": [
    {
     "data": {
      "image/png": "[encoded data removed]",
      "text/plain": [
       "<Figure size 720x360 with 1 Axes>"
      ]
     },
     "metadata": {
      "needs_background": "light"
     },
     "output_type": "display_data"
    }
   ],
   "source": [
    "plt.figure(figsize=(10, 5))\n",
    "plt.plot(list(scores.keys()), list(scores.values()))\n",
    "plt.show()"
   ]
  },
  {
   "cell_type": "code",
   "execution_count": 32,
   "id": "transparent-transcript",
   "metadata": {
    "execution": {
     "iopub.execute_input": "2021-06-14T19:41:31.190167Z",
     "iopub.status.busy": "2021-06-14T19:41:31.189202Z",
     "iopub.status.idle": "2021-06-14T19:41:31.192290Z",
     "shell.execute_reply": "2021-06-14T19:41:31.191551Z",
     "shell.execute_reply.started": "2021-06-14T19:35:33.762021Z"
    },
    "papermill": {
     "duration": 0.052702,
     "end_time": "2021-06-14T19:41:31.192523",
     "exception": false,
     "start_time": "2021-06-14T19:41:31.139821",
     "status": "completed"
    },
    "tags": []
   },
   "outputs": [],
   "source": [
    "my_final_model = RandomForestClassifier(n_estimators=250, max_depth=5, random_state=0)\n",
    "\n",
    "my_final_pipeline = Pipeline(steps=[\n",
    "    (\"preprocessor\", preprocessor),\n",
    "    (\"model\", my_final_model)\n",
    "])"
   ]
  },
  {
   "cell_type": "code",
   "execution_count": 33,
   "id": "essential-setting",
   "metadata": {
    "execution": {
     "iopub.execute_input": "2021-06-14T19:41:31.288896Z",
     "iopub.status.busy": "2021-06-14T19:41:31.288183Z",
     "iopub.status.idle": "2021-06-14T19:41:31.858455Z",
     "shell.execute_reply": "2021-06-14T19:41:31.857859Z",
     "shell.execute_reply.started": "2021-06-14T19:35:33.770511Z"
    },
    "papermill": {
     "duration": 0.622462,
     "end_time": "2021-06-14T19:41:31.858607",
     "exception": false,
     "start_time": "2021-06-14T19:41:31.236145",
     "status": "completed"
    },
    "tags": []
   },
   "outputs": [],
   "source": [
    "my_final_pipeline.fit(train_data, y)\n",
    "preds = my_final_pipeline.predict(test_data)"
   ]
  },
  {
   "cell_type": "code",
   "execution_count": 34,
   "id": "cutting-muslim",
   "metadata": {
    "execution": {
     "iopub.execute_input": "2021-06-14T19:41:31.953735Z",
     "iopub.status.busy": "2021-06-14T19:41:31.952971Z",
     "iopub.status.idle": "2021-06-14T19:41:31.961439Z",
     "shell.execute_reply": "2021-06-14T19:41:31.960701Z",
     "shell.execute_reply.started": "2021-06-14T19:35:34.398607Z"
    },
    "papermill": {
     "duration": 0.058049,
     "end_time": "2021-06-14T19:41:31.961750",
     "exception": false,
     "start_time": "2021-06-14T19:41:31.903701",
     "status": "completed"
    },
    "tags": []
   },
   "outputs": [],
   "source": [
    "output = pd.DataFrame({\"PassengerId\": test_data.PassengerId, \"Survived\": preds})\n",
    "output.to_csv(\"my_submission.csv\", index=False)"
   ]
  }
 ],
 "metadata": {
  "kernelspec": {
   "display_name": "Python 3",
   "language": "python",
   "name": "python3"
  },
  "language_info": {
   "codemirror_mode": {
    "name": "ipython",
    "version": 3
   },
   "file_extension": ".py",
   "mimetype": "text/x-python",
   "name": "python",
   "nbconvert_exporter": "python",
   "pygments_lexer": "ipython3",
   "version": "3.7.10"
  },
  "papermill": {
   "default_parameters": {},
   "duration": 29.553413,
   "end_time": "2021-06-14T19:41:32.817803",
   "environment_variables": {},
   "exception": null,
   "input_path": "__notebook__.ipynb",
   "output_path": "__notebook__.ipynb",
   "parameters": {},
   "start_time": "2021-06-14T19:41:03.264390",
   "version": "2.3.3"
  }
 },
 "nbformat": 4,
 "nbformat_minor": 5
}
